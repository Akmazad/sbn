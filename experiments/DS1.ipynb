{
 "cells": [
  {
   "cell_type": "code",
   "execution_count": 1,
   "metadata": {},
   "outputs": [],
   "source": [
    "%load_ext autoreload\n",
    "%autoreload 2\n",
    "\n",
    "import sys\n",
    "sys.path.append('../')"
   ]
  },
  {
   "cell_type": "code",
   "execution_count": 2,
   "metadata": {},
   "outputs": [],
   "source": [
    "import os\n",
    "import numpy as np\n",
    "import matplotlib.pyplot as plt\n",
    "%matplotlib inline"
   ]
  },
  {
   "cell_type": "code",
   "execution_count": 3,
   "metadata": {},
   "outputs": [],
   "source": [
    "from models import SBN\n",
    "from utils import summary"
   ]
  },
  {
   "cell_type": "code",
   "execution_count": 4,
   "metadata": {},
   "outputs": [],
   "source": [
    "colors = ['#1f77b4', '#ff7f0e', '#2ca02c', '#d62728', 'gray'] "
   ]
  },
  {
   "cell_type": "markdown",
   "metadata": {},
   "source": [
    "# Reading Dataset File\n",
    "\n",
    "I'm going to call `summary`, but what does it do?\n",
    "\n",
    "```\n",
    "def summary(dataset, file_path):\n",
    "    tree_dict_total = {}\n",
    "    tree_dict_map_total = defaultdict(float)\n",
    "    tree_names_total = []\n",
    "    tree_wts_total = []\n",
    "    n_samp_tree = 0\n",
    "    for i in range(1, 11):\n",
    "        tree_dict_rep, tree_name_rep, tree_wts_rep = mcmc_treeprob(file_path + dataset + '/rep_{}/'.format(i) + dataset + '.trprobs', 'nexus')\n",
    "        tree_wts_rep = np.round(np.array(tree_wts_rep) * 750001)\n",
    "\n",
    "        for i, name in enumerate(tree_name_rep):\n",
    "            tree_id = tree_dict_rep[name].get_topology_id()\n",
    "            if tree_id not in tree_dict_map_total:\n",
    "                n_samp_tree += 1\n",
    "                tree_names_total.append('tree_{}'.format(n_samp_tree))\n",
    "                tree_dict_total[tree_names_total[-1]] = tree_dict_rep[name]\n",
    "\n",
    "            tree_dict_map_total[tree_id] += tree_wts_rep[i]\n",
    "\n",
    "    for key in tree_dict_map_total:\n",
    "        tree_dict_map_total[key] /= 10 * 750001\n",
    "\n",
    "    for name in tree_names_total:\n",
    "        tree_wts_total.append(tree_dict_map_total[tree_dict_total[name].get_topology_id()])\n",
    "\n",
    "    return tree_dict_total, tree_names_total, tree_wts_total\n",
    "```\n",
    "\n",
    "Iterating over $1 \\to 10$ calling `mcmc_treeprob` on each dataset in `../data/raw_data_DS1-4/DS1`, `rep_` $1 \\to 10$. What are these files?"
   ]
  },
  {
   "cell_type": "code",
   "execution_count": 5,
   "metadata": {},
   "outputs": [
    {
     "name": "stdout",
     "output_type": "stream",
     "text": [
      "\u001b[0m\u001b[01;34mrep_1\u001b[0m/  \u001b[01;34mrep_10\u001b[0m/  \u001b[01;34mrep_2\u001b[0m/  \u001b[01;34mrep_3\u001b[0m/  \u001b[01;34mrep_4\u001b[0m/  \u001b[01;34mrep_5\u001b[0m/  \u001b[01;34mrep_6\u001b[0m/  \u001b[01;34mrep_7\u001b[0m/  \u001b[01;34mrep_8\u001b[0m/  \u001b[01;34mrep_9\u001b[0m/\r\n"
     ]
    }
   ],
   "source": [
    "ls ../data/raw_data_DS1-4/DS1/"
   ]
  },
  {
   "cell_type": "code",
   "execution_count": 6,
   "metadata": {},
   "outputs": [
    {
     "name": "stdout",
     "output_type": "stream",
     "text": [
      "1247 ../data/raw_data_DS1-4/DS1/rep_1/DS1.trprobs\r\n"
     ]
    }
   ],
   "source": [
    "!wc -l ../data/raw_data_DS1-4/DS1/rep_1/DS1.trprobs"
   ]
  },
  {
   "cell_type": "markdown",
   "metadata": {},
   "source": [
    "The dataset file contains a description of what's in the file:"
   ]
  },
  {
   "cell_type": "code",
   "execution_count": 7,
   "metadata": {},
   "outputs": [
    {
     "name": "stdout",
     "output_type": "stream",
     "text": [
      "#NEXUS\r\n",
      "\r\n",
      "[ID: 0146056142]\r\n",
      "[This file contains the trees that were found during the MCMC\r\n",
      "search, sorted by posterior probability. \"p\" indicates the\r\n",
      "posterior probability of the tree whereas \"P\" indicates the\r\n",
      "cumulative posterior probability.]\r\n"
     ]
    }
   ],
   "source": [
    "!head -n 7 ../data/raw_data_DS1-4/DS1/rep_1/DS1.trprobs"
   ]
  },
  {
   "cell_type": "markdown",
   "metadata": {},
   "source": [
    "## `mcmc_treeprob`\n",
    "\n",
    "What does `mcmc_treeprob` produce when supplied with one of these files?"
   ]
  },
  {
   "cell_type": "code",
   "execution_count": 8,
   "metadata": {},
   "outputs": [],
   "source": [
    "from utils import mcmc_treeprob\n",
    "tree_dict_rep, tree_name_rep, tree_wts_rep = mcmc_treeprob(\"../data/raw_data_DS1-4/DS1/rep_1/DS1.trprobs\", \"nexus\")"
   ]
  },
  {
   "cell_type": "markdown",
   "metadata": {},
   "source": [
    "`tree_dict_rep` is a dictionary containing numbered keys for each tree, with `ete3` objects called `TreeNode`s describing each tree:"
   ]
  },
  {
   "cell_type": "code",
   "execution_count": 9,
   "metadata": {},
   "outputs": [
    {
     "name": "stdout",
     "output_type": "stream",
     "text": [
      "(<type 'dict'>, 1209, ['tree_919', 'tree_586', 'tree_496', 'tree_587', 'tree_1158', 'tree_1127', 'tree_559', 'tree_308', 'tree_309', 'tree_306'])\n",
      "('tree_919', <class 'ete3.coretype.tree.TreeNode'>, Tree node '' (0x7f0d6e04281))\n",
      "('tree_586', <class 'ete3.coretype.tree.TreeNode'>, Tree node '' (0x7f0d6ec4215))\n",
      "('tree_496', <class 'ete3.coretype.tree.TreeNode'>, Tree node '' (0x7f0d6efcbe9))\n"
     ]
    }
   ],
   "source": [
    "k = tree_dict_rep.keys()\n",
    "print(type(tree_dict_rep), len(k), k[:10])\n",
    "for x in k[:3]:\n",
    "    print(x, type(tree_dict_rep[x]), tree_dict_rep[x])"
   ]
  },
  {
   "cell_type": "markdown",
   "metadata": {},
   "source": [
    "`tree_name_rep` is just the keys from the dictionary `tree_dict_rep` sorted by their number:"
   ]
  },
  {
   "cell_type": "code",
   "execution_count": null,
   "metadata": {},
   "outputs": [],
   "source": [
    "for a,b in zip(tree_name_rep, sorted(k, key=lambda x: int(x.split(\"_\")[1]))):\n",
    "    assert a == b"
   ]
  },
  {
   "cell_type": "markdown",
   "metadata": {},
   "source": [
    "`tree_wts_rep` is a matched list with `tree_name_rep` containing weights for each tree. From `mcmc_tree_prob`:\n",
    "\n",
    "```\n",
    "def mcmc_treeprob(filename, data_type, truncate=None):\n",
    "    mcmc_samp_tree_stats = Phylo.parse(filename, data_type)\n",
    "    mcmc_samp_tree_dict = {}\n",
    "    mcmc_samp_tree_name = []\n",
    "    mcmc_samp_tree_wts = []\n",
    "    num_hp_tree = 0\n",
    "    for tree in mcmc_samp_tree_stats:\n",
    "        handle = StringIO()\n",
    "        Phylo.write(tree, handle, 'newick')\n",
    "        mcmc_samp_tree_dict[tree.name] = Tree(handle.getvalue().strip())\n",
    "\n",
    "        handle.close()\n",
    "        mcmc_samp_tree_name.append(tree.name)\n",
    "        mcmc_samp_tree_wts.append(tree.weight)\n",
    "        num_hp_tree += 1\n",
    "\n",
    "        if truncate and num_hp_tree >= truncate:\n",
    "            break\n",
    "\n",
    "    return mcmc_samp_tree_dict, mcmc_samp_tree_name, mcmc_samp_tree_wts\n",
    "```\n",
    "\n",
    "Where `Phylo` is `Bio.Phylo` from [Biopython's module for phylogenetics](http://biopython.org/DIST/docs/tutorial/Tutorial.html#htoc200). Which allows us to do cool stuff like render phylogenies in ascii:"
   ]
  },
  {
   "cell_type": "code",
   "execution_count": 10,
   "metadata": {},
   "outputs": [],
   "source": [
    "from Bio import Phylo\n",
    "tree_stats = Phylo.parse(\"../data/raw_data_DS1-4/DS1/rep_1/DS1.trprobs\", \"nexus\")\n",
    "tree = next(iter(tree_stats))"
   ]
  },
  {
   "cell_type": "code",
   "execution_count": 11,
   "metadata": {},
   "outputs": [
    {
     "name": "stdout",
     "output_type": "stream",
     "text": [
      "  __ Trachemys_scripta\n",
      " |\n",
      " |       ___ Sceloporus_undulatus\n",
      " |   ___|\n",
      " |  |   |___ Heterodon_platyrhinos\n",
      " |  |\n",
      " |  |        __ Turdus_migratorius\n",
      " |__|    ___|\n",
      " |  |   |   |__ Gallus_gallus\n",
      " |  |   |\n",
      " |  |   |       ___ Oryctolagus_cuniculus\n",
      " |  |___|      |\n",
      " |      |    __|        __ Rattus_norvegicus\n",
      " |      |   |  |    ___|\n",
      " |      |   |  |___|   |__ Mus_musculus\n",
      " |      |   |      |\n",
      " |      |___|      |___ Homo_sapiens\n",
      " |          |\n",
      " |          |   ___ Latimeria_chalumnae\n",
      " |          |  |\n",
      " |          |  |    ___ Xenopus_laevis\n",
      " |          |__|   |\n",
      " |             |   |           ___ Gastrophryne_carolinensis\n",
      " |             |   |       ___|\n",
      " |             |   |      |   |    __ Nesomantis_thomasseti\n",
      " |             |___|      |   |___|\n",
      "_|                 |    __|       |__ Eleutherodactylus_cuneatus\n",
      " |                 |   |  |\n",
      " |                 |   |  |    ___ Hyla_cinerea\n",
      " |                 |   |  |___|\n",
      " |                 |   |      |___ Bufo_valliceps\n",
      " |                 |___|\n",
      " |                     |       ___ Typhlonectes_natans\n",
      " |                     |   ___|\n",
      " |                     |  |   |    __ Siren_intermedia\n",
      " |                     |  |   |___|\n",
      " |                     |__|       |__ Ambystoma_mexicanum\n",
      " |                        |\n",
      " |                        |    ___ Discoglossus_pictus\n",
      " |                        |   |\n",
      " |                        |___|       ___ Scaphiopus_holbrooki\n",
      " |                            |    __|\n",
      " |                            |   |  |___ Plethodon_yonhalossee\n",
      " |                            |___|\n",
      " |                                |   ___ Ichthyophis_bannanicus\n",
      " |                                |  |\n",
      " |                                |__|        ___ Hypogeophis_rostratus\n",
      " |                                   |    ___|\n",
      " |                                   |___|   |___ Grandisonia_alternans\n",
      " |                                       |\n",
      " |                                       |___ Amphiuma_tridactylum\n",
      " |\n",
      " |__ Alligator_mississippiensis\n",
      "\n"
     ]
    }
   ],
   "source": [
    "Phylo.draw_ascii(tree)"
   ]
  },
  {
   "cell_type": "markdown",
   "metadata": {},
   "source": [
    "So what `mcmc_treeprob` does is:\n",
    "\n",
    "1. Open a dataset file, containing phylogenies sampled by MCMC\n",
    "2. Parse all these trees using Biopython\n",
    "3. For each tree:\n",
    "    3. Write each of these trees to `newick` file format in a `StringIO` buffer\n",
    "    4. Read this file format with `ete3` as a [`Tree`](http://etetoolkit.org/docs/latest/tutorial/tutorial_trees.html)\n",
    "    5. Add this tree to a dictionary\n",
    "    6. Add the a numbered key for this tree to a list\n",
    "    7. Add a matched weight parameter produced by `ete3.Tree` to another list\n",
    "4. Return a dictionary containing `ete3.Tree` objects, a list of keys for that dictionary and a list of weights matched to that list\n",
    "\n",
    "Then, `summary` collates these lists and the dictionary over all of the 10 `rep_` files. It also scales the weights by 750001, rounds to make integers then later divides these integers by 750001 times 10 to make floats again. I suppose because there are 10 files. This summary function could cause problems if there are ever more or less than 10 `rep_` files."
   ]
  },
  {
   "cell_type": "code",
   "execution_count": 12,
   "metadata": {},
   "outputs": [],
   "source": [
    "tree_dict_total, tree_names_total, tree_wts_total = summary('DS1', '../data/raw_data_DS1-4/')"
   ]
  },
  {
   "cell_type": "code",
   "execution_count": 13,
   "metadata": {},
   "outputs": [
    {
     "data": {
      "text/plain": [
       "0.2781518957974723"
      ]
     },
     "execution_count": 13,
     "metadata": {},
     "output_type": "execute_result"
    }
   ],
   "source": [
    "tree_wts_total[0]"
   ]
  },
  {
   "cell_type": "code",
   "execution_count": 14,
   "metadata": {},
   "outputs": [],
   "source": [
    "# make a new dictionary mapping ete3.Tree objects to weights\n",
    "emp_tree_freq = {tree_dict_total[tree_name]:tree_wts_total[i] for i, tree_name in enumerate(tree_names_total)}"
   ]
  },
  {
   "cell_type": "code",
   "execution_count": 15,
   "metadata": {},
   "outputs": [],
   "source": [
    "# get the list of taxa arbitrarily from the first tree\n",
    "taxa = tree_dict_total[tree_names_total[0]].get_leaf_names()"
   ]
  },
  {
   "cell_type": "code",
   "execution_count": 16,
   "metadata": {},
   "outputs": [
    {
     "data": {
      "text/plain": [
       "['Trachemys_scripta',\n",
       " 'Sceloporus_undulatus',\n",
       " 'Heterodon_platyrhinos',\n",
       " 'Turdus_migratorius',\n",
       " 'Gallus_gallus',\n",
       " 'Oryctolagus_cuniculus',\n",
       " 'Rattus_norvegicus',\n",
       " 'Mus_musculus',\n",
       " 'Homo_sapiens',\n",
       " 'Latimeria_chalumnae',\n",
       " 'Xenopus_laevis',\n",
       " 'Gastrophryne_carolinensis',\n",
       " 'Nesomantis_thomasseti',\n",
       " 'Eleutherodactylus_cuneatus',\n",
       " 'Hyla_cinerea',\n",
       " 'Bufo_valliceps',\n",
       " 'Typhlonectes_natans',\n",
       " 'Siren_intermedia',\n",
       " 'Ambystoma_mexicanum',\n",
       " 'Discoglossus_pictus',\n",
       " 'Scaphiopus_holbrooki',\n",
       " 'Plethodon_yonhalossee',\n",
       " 'Ichthyophis_bannanicus',\n",
       " 'Hypogeophis_rostratus',\n",
       " 'Grandisonia_alternans',\n",
       " 'Amphiuma_tridactylum',\n",
       " 'Alligator_mississippiensis']"
      ]
     },
     "execution_count": 16,
     "metadata": {},
     "output_type": "execute_result"
    }
   ],
   "source": [
    "# list of taxa matches the phylogeny drawn above\n",
    "taxa"
   ]
  },
  {
   "cell_type": "markdown",
   "metadata": {},
   "source": [
    "# Opening `samp-tree` numpy arrays\n",
    "\n",
    "In the previous section I opened a *raw* results directory, `raw_data_DS1-4`, containing the raw sampled trees from the MCMC experiments. The goal of the [paper][sbn] was to build a distribution over trees from a set of these samples. Now I'm opening numpy arrays in a results directory that's *not* raw, and contains many `.npy` pickled numpy arrays. What are these arrays? It says in the repository README to train a SBN we only need:\n",
    "\n",
    "```\n",
    "# parameters to train the model\n",
    "#   @tree_dict is the unique tree dictionary\n",
    "#   @tree_names is the name list of the trees\n",
    "#   @tree_wts is the corresponding frequencies for the trees with names in tree_names\n",
    "```\n",
    "\n",
    "But, we've also supplied here the dictionary `emp_tree_freq` mapping trees to weights from the \"golden runs\".\n",
    "\n",
    "## What are golden runs?\n",
    "\n",
    "From [the paper][sbn]:\n",
    "\n",
    ">  These extremely long “golden runs” form the ground truth to which we will compare various posterior estimates based on standard runs. For these standard runs, we run MrBayes on each data set with 10 replicates of 4 chains and 8 runs until the runs have ASDSF (the standard convergence criteria used in MrBayes) less than 0.01 or a maximum of 100 million iterations. This conservative setting has been shown to find all posterior modes on these data sets [Whidden and Matsen, 2015](https://academic.oup.com/sysbio/article/64/3/472/1632660). We collect the posterior samples every 100 iterations of these runs and discard the first 25% as burn-in. We apply SBN algorithms, SRF and CCD to the posterior samples in each of the 10 replicates for each data set. For sbn-em-α, we use $\\alpha = 0.0001$ to give some weak regularization. We use KL divergence to the ground truth to measure the performance of all methods.\n",
    "\n",
    "So, SBN, SFR and CCD are fitting distributions over trees to a subset of the full dataset of MCMC samples, then we compare the posterior distribution they've learnt against the distribution defined over the whole dataset *fit by counting*. **Where counting here, I think, is equivalent to SRF?**\n",
    "\n",
    "## Why do these numpy arrays exist though?\n",
    "\n",
    "But, that doesn't explain what these numpy arrays are, because I can get open each of these 10 replicate files individually, fit an SBN to each and calculate the KL divergence. It doesn't require an additional numpy array.\n",
    "\n",
    "Oh, I think these are precomputed arrays increasing the number of samples, to produce the rightmost plot in Figure 5 of the paper. Should be easy to check this by trying to recreate that plot.\n",
    "\n",
    "[sbn]: http://papers.nips.cc/paper/7418-generalizing-tree-probability-estimation-via-bayesian-networks"
   ]
  },
  {
   "cell_type": "code",
   "execution_count": 21,
   "metadata": {},
   "outputs": [],
   "source": [
    "# reading figure 5 for sbn-sa\n",
    "sbn_by_inspection = [(1e4, 0.2), (2e4, 0.14), (4e4, 0.1), (8e4, 0.09), (1.7e5, 0.08), (3e5, 0.071), (6e5, 0.07)]\n",
    "srf_by_inspection = [(1e4, 0.31), (2e4, 0.21), (4e4, 0.13), (8e4, 0.08), (1.7e5, 0.044), (3e5, 0.025), (6e5, 0.014)]"
   ]
  },
  {
   "cell_type": "code",
   "execution_count": 18,
   "metadata": {},
   "outputs": [],
   "source": [
    "# monkey patch np.load https://stackoverflow.com/a/56243777/6937913\n",
    "# save np.load\n",
    "np_load_old = np.load\n",
    "# modify the default parameters of np.load\n",
    "np.load = lambda *a,**k: np_load_old(*a, allow_pickle=True, **k)"
   ]
  },
  {
   "cell_type": "code",
   "execution_count": 19,
   "metadata": {},
   "outputs": [],
   "source": [
    "from IPython import display"
   ]
  },
  {
   "cell_type": "code",
   "execution_count": 20,
   "metadata": {},
   "outputs": [
    {
     "name": "stdout",
     "output_type": "stream",
     "text": [
      "rep 10, sample size: 10000\n",
      "rep 10, kl_div 0.595205170487\n",
      "rep 10, sample size: 20000\n",
      "rep 10, kl_div 0.384487654816\n",
      "rep 10, sample size: 40000\n",
      "rep 10, kl_div 0.20654767478\n",
      "rep 10, sample size: 80000\n",
      "rep 10, kl_div 0.103092987773\n",
      "rep 10, sample size: 160000\n",
      "rep 10, kl_div 0.0422549707374\n",
      "rep 10, sample size: 320000\n",
      "rep 10, kl_div 0.0242059842406\n",
      "rep 10, sample size: 640000\n",
      "rep 10, kl_div 0.0136130249259\n"
     ]
    }
   ],
   "source": [
    "K_v = [10000, 20000, 40000, 80000, 160000, 320000, 640000]\n",
    "n_rep =10\n",
    "kl_div_mat_freq = np.empty((n_rep, 7))\n",
    "\n",
    "for rep in range(n_rep):\n",
    "    display.clear_output() # added because original output was cluttered\n",
    "    for k, n_trees in enumerate(K_v):\n",
    "        print 'rep {}, sample size: {}'.format(rep+1, n_trees)\n",
    "        \n",
    "        tree_id = np.load('../data/DS1/rep_{}/{}-samp-tree-dict.npy'.format(rep+1, n_trees)).item()\n",
    "        tree_count_dict = np.load('../data/DS1/rep_{}/{}-samp-tree-count-dict.npy'.format(rep+1, n_trees)).item()\n",
    "        \n",
    "        model = SBN(taxa, emp_tree_freq)\n",
    "        model.bn_train_count(tree_count_dict, tree_id)\n",
    "        \n",
    "        kl_div = model.kl_div(method='freq')\n",
    "        kl_div_mat_freq[rep, k] = kl_div['freq']\n",
    "\n",
    "        print 'rep {}, kl_div {}'.format(rep+1, kl_div_mat_freq[rep, k])"
   ]
  },
  {
   "cell_type": "markdown",
   "metadata": {},
   "source": [
    "Plotting against values read from Figure 5 of the paper:"
   ]
  },
  {
   "cell_type": "code",
   "execution_count": 23,
   "metadata": {},
   "outputs": [
    {
     "data": {
      "image/png": "[encoded data removed]",
      "text/plain": [
       "<Figure size 432x288 with 1 Axes>"
      ]
     },
     "metadata": {
      "needs_background": "light"
     },
     "output_type": "display_data"
    }
   ],
   "source": [
    "plt.title(\"Figure 5: Right\")\n",
    "plt.plot(*zip(*sbn_by_inspection), label=\"sbn-sa by inspection\")\n",
    "plt.plot(*zip(*srf_by_inspection), label=\"srf by inspection\")\n",
    "plt.plot(K_v, kl_div_mat_freq.mean(axis=0), label=\"replicated\")\n",
    "plt.xlabel(\"Sample Size\")\n",
    "plt.xscale(\"log\")\n",
    "plt.ylabel(\"KL Divergence\")\n",
    "plt.yscale(\"log\")\n",
    "plt.legend()\n",
    "plt.grid(which=\"both\")"
   ]
  },
  {
   "cell_type": "markdown",
   "metadata": {},
   "source": [
    "I suppose when we fit a SBN by counting then we're fitting by SRF? The replicated line looks exactly like the SRF line from Figure 5 in the paper and I'm sure it's neither of the EM algorithms because the code to fit those is in the next part."
   ]
  },
  {
   "cell_type": "code",
   "execution_count": 25,
   "metadata": {},
   "outputs": [],
   "source": [
    "if not os.path.exists('../results/DS1/method'):\n",
    "    os.makedirs('../results/DS1/method')\n",
    "if not os.path.exists('../results/DS1/n-tree'): # fixed '../results/DS1/n_tree' ->  '../results/DS1/n-tree'\n",
    "    os.makedirs('../results/DS1/n-tree')"
   ]
  },
  {
   "cell_type": "code",
   "execution_count": 27,
   "metadata": {},
   "outputs": [],
   "source": [
    "from time import time"
   ]
  },
  {
   "cell_type": "markdown",
   "metadata": {},
   "source": [
    "The following cell took a long time to run, so I added some code that makes it easier to check progress and figure out how  long it's got left to run. It also flooded the cell output with status updates, so I used `clear_output` to reduce that and make the output more readable."
   ]
  },
  {
   "cell_type": "code",
   "execution_count": 43,
   "metadata": {
    "scrolled": false
   },
   "outputs": [
    {
     "name": "stdout",
     "output_type": "stream",
     "text": [
      "remaining: 44 minutes 16.44 seconds\n",
      "rep 9, dataset DS1, sample size 10000, loading data : DONE\n",
      "SBN-EM training: rep 9, dataset DS1, sample size 10000 : DONE\n",
      "SBN-EM-ALPHA training: rep 9, dataset DS1, sample size 10000 : DONE\n",
      "rep 9, dataset DS1, sample size 20000, loading data : DONE\n",
      "SBN-EM training: rep 9, dataset DS1, sample size 20000 : DONE\n",
      "SBN-EM-ALPHA training: rep 9, dataset DS1, sample size 20000 : DONE\n",
      "rep 9, dataset DS1, sample size 40000, loading data : DONE\n",
      "SBN-EM training: rep 9, dataset DS1, sample size 40000 : DONE\n",
      "SBN-EM-ALPHA training: rep 9, dataset DS1, sample size 40000 : DONE\n",
      "rep 9, dataset DS1, sample size 80000, loading data : DONE\n",
      "SBN-EM training: rep 9, dataset DS1, sample size 80000 : DONE\n",
      "SBN-EM-ALPHA training: rep 9, dataset DS1, sample size 80000 : DONE\n",
      "rep 9, dataset DS1, sample size 160000, loading data : DONE\n",
      "SBN-EM training: rep 9, dataset DS1, sample size 160000 : DONE\n",
      "SBN-EM-ALPHA training: rep 9, dataset DS1, sample size 160000 : DONE\n",
      "rep 9, dataset DS1, sample size 320000, loading data : DONE\n",
      "SBN-EM training: rep 9, dataset DS1, sample size 320000 : DONE\n",
      "SBN-EM-ALPHA training: rep 9, dataset DS1, sample size 320000 : DONE\n",
      "rep 9, dataset DS1, sample size 640000, loading data : DONE\n",
      "SBN-EM training: rep 9, dataset DS1, sample size 640000 : DONE\n",
      "SBN-EM-ALPHA training: rep 9, dataset DS1, sample size 640000\n",
      "Iter: 1: current per tree log-likelihood -2.976701\n",
      "Iter: 2: current per tree log-likelihood -2.972050\n",
      "Iter: 3: current per tree log-likelihood -2.971060\n",
      "Iter: 4: current per tree log-likelihood -2.970861\n",
      "Iter: 5: current per tree log-likelihood -2.970741\n",
      "Iter: 6: current per tree log-likelihood -2.970647\n",
      "Iter: 7: current per tree log-likelihood -2.970567\n",
      "Iter: 8: current per tree log-likelihood -2.970493\n",
      "Iter: 9: current per tree log-likelihood -2.970420\n",
      "Iter: 10: current per tree log-likelihood -2.970350\n",
      "Iter: 11: current per tree log-likelihood -2.970291\n",
      "Iter: 12: current per tree log-likelihood -2.970245\n",
      "Iter: 13: current per tree log-likelihood -2.970204\n",
      "Iter: 14: current per tree log-likelihood -2.970162\n",
      "Iter: 15: current per tree log-likelihood -2.970110\n",
      "Iter: 16: current per tree log-likelihood -2.970040\n",
      "Iter: 17: current per tree log-likelihood -2.969936\n",
      "Iter: 18: current per tree log-likelihood -2.969780\n",
      "Iter: 19: current per tree log-likelihood -2.969538\n",
      "Iter: 20: current per tree log-likelihood -2.969159\n",
      "Iter: 21: current per tree log-likelihood -2.968562\n",
      "Iter: 22: current per tree log-likelihood -2.967624\n",
      "Iter: 23: current per tree log-likelihood -2.966171\n",
      "Iter: 24: current per tree log-likelihood -2.963972\n",
      "Iter: 25: current per tree log-likelihood -2.960791\n",
      "Iter: 26: current per tree log-likelihood -2.956517\n",
      "Iter: 27: current per tree log-likelihood -2.951364\n",
      "Iter: 28: current per tree log-likelihood -2.945967\n",
      "Iter: 29: current per tree log-likelihood -2.941130\n",
      "Iter: 30: current per tree log-likelihood -2.937352\n",
      "Iter: 31: current per tree log-likelihood -2.934611\n",
      "Iter: 32: current per tree log-likelihood -2.932571\n",
      "Iter: 33: current per tree log-likelihood -2.930889\n",
      "Iter: 34: current per tree log-likelihood -2.929354\n",
      "Iter: 35: current per tree log-likelihood -2.927885\n",
      "Iter: 36: current per tree log-likelihood -2.926479\n",
      "Iter: 37: current per tree log-likelihood -2.925166\n",
      "Iter: 38: current per tree log-likelihood -2.923984\n",
      "Iter: 39: current per tree log-likelihood -2.922956\n",
      "Iter: 40: current per tree log-likelihood -2.922094\n",
      "Iter: 41: current per tree log-likelihood -2.921393\n",
      "Iter: 42: current per tree log-likelihood -2.920839\n",
      "Iter: 43: current per tree log-likelihood -2.920410\n",
      "Iter: 44: current per tree log-likelihood -2.920085\n",
      "Iter: 45: current per tree log-likelihood -2.919840\n",
      "Iter: 46: current per tree log-likelihood -2.919656\n",
      "Iter: 47: current per tree log-likelihood -2.919517\n",
      "Iter: 48: current per tree log-likelihood -2.919411\n",
      "Iter: 49: current per tree log-likelihood -2.919328\n",
      "Iter: 50: current per tree log-likelihood -2.919261\n",
      "Iter: 51: current per tree log-likelihood -2.919206\n",
      "Iter: 52: current per tree log-likelihood -2.919159\n",
      "Iter: 53: current per tree log-likelihood -2.919120\n",
      "Iter: 54: current per tree log-likelihood -2.919085\n",
      "Iter: 55: current per tree log-likelihood -2.919055\n",
      "Iter: 56: current per tree log-likelihood -2.919028\n",
      "Iter: 57: current per tree log-likelihood -2.919004\n",
      "Iter: 58: current per tree log-likelihood -2.918983\n",
      "Iter: 59: current per tree log-likelihood -2.918963\n",
      "Iter: 60: current per tree log-likelihood -2.918946\n",
      "Iter: 61: current per tree log-likelihood -2.918931\n",
      "Iter: 62: current per tree log-likelihood -2.918917\n",
      "Iter: 63: current per tree log-likelihood -2.918904\n",
      "Iter: 64: current per tree log-likelihood -2.918893\n",
      "Iter: 65: current per tree log-likelihood -2.918882\n",
      "Iter: 66: current per tree log-likelihood -2.918872\n"
     ]
    }
   ],
   "source": [
    "K_v = [10000, 20000, 40000, 80000, 160000, 320000, 640000]\n",
    "methods = ['ccd', 'sbn-sa', 'sbn-em', 'sbn-em-alpha']\n",
    "n_rep = 10\n",
    "reg_lam = 100.0\n",
    "kl_div_mat = np.empty((n_rep, 7, 4))\n",
    "\n",
    "status = \"\"\n",
    "def clear_and_print(status):\n",
    "    display.clear_output()\n",
    "    print(status)\n",
    "start_time = time()\n",
    "for rep in range(n_rep):\n",
    "    elapsed = time() - start_time\n",
    "    if rep > 0:\n",
    "        per_rep = elapsed/rep\n",
    "        seconds = per_rep*(n_rep-rep)\n",
    "        status  = \"remaining: {:d} minutes {:.2f} seconds\".format( int(seconds//60), seconds%60) + \"\\n\"\n",
    "\n",
    "    output_methods = '../results/DS1/method/rep' + '{:02d}'.format(rep+1)\n",
    "    output_n_unique_tree = '../results/DS1/n-tree/rep' +'{:02d}'.format(rep+1)\n",
    "\n",
    "    kl_div_methods = open(output_methods, 'w')\n",
    "    n_unique_tree = open(output_n_unique_tree, 'w')\n",
    "    \n",
    "    kl_div_methods.write('K'.ljust(8) + '\\t'.join([str(method).ljust(13) for method in methods]) +'\\n')\n",
    "    n_unique_tree.write('\\t'.join([str(n_tree).ljust(6) for n_tree in K_v]) +'\\n')\n",
    "    \n",
    "    kl_div_methods.flush()\n",
    "    n_unique_tree.flush()    \n",
    "    \n",
    "    for k, n_trees in enumerate(K_v):\n",
    "        kl_div_methods.write('{:06d}'.format(n_trees))\n",
    "        status += 'rep {}, dataset {}, sample size {}, loading data'.format(rep, 'DS1', n_trees)\n",
    "        clear_and_print(status)\n",
    "        status += ' : DONE\\n'\n",
    "        tree_id = np.load('../data/DS1/rep_{}/{}-samp-tree-dict.npy'.format(rep+1, n_trees)).item()\n",
    "        tree_count_dict = np.load('../data/DS1/rep_{}/{}-samp-tree-count-dict.npy'.format(rep+1, n_trees)).item()\n",
    "        \n",
    "        model = SBN(taxa, emp_tree_freq)\n",
    "        model.bn_train_count(tree_count_dict, tree_id)\n",
    "\n",
    "        kl_div = model.kl_div()\n",
    "        kl_div_mat[rep, k, 0], kl_div_mat[rep, k, 1] = kl_div['ccd'], kl_div['bn']\n",
    "\n",
    "        status += 'SBN-EM training: rep {}, dataset {}, sample size {}'.format(rep, 'DS1', n_trees)\n",
    "        clear_and_print(status)\n",
    "        status += ' : DONE\\n'\n",
    "        logp = model.bn_em_count(tree_count_dict, tree_id, maxiter=1000, abstol=1e-05, monitor=True, MAP=False)\n",
    "        kl_div_mat[rep, k, 2] = model.kl_div(method='bn')['bn']   \n",
    "        \n",
    "        model = SBN(taxa, emp_tree_freq, alpha=reg_lam/n_trees)\n",
    "        status += 'SBN-EM-ALPHA training: rep {}, dataset {}, sample size {}'.format(rep, 'DS1', n_trees)\n",
    "        clear_and_print(status)\n",
    "        status += ' : DONE\\n'\n",
    "        logp = model.bn_em_count(tree_count_dict, tree_id, maxiter=1000, abstol=1e-05, monitor=True, MAP=True)\n",
    "        kl_div_mat[rep, k, 3] = model.kl_div(method='bn', MAP=True)['bn']\n",
    "        \n",
    "        kl_div_methods.write(''.join(['\\t{:.11f}'.format(kl_div_mat[rep,k,l]) for l in range(4)]) + '\\n')\n",
    "        n_unique_tree.write(str(len(tree_count_dict)).ljust(6)+'\\t')\n",
    "\n",
    "        kl_div_methods.flush()\n",
    "        n_unique_tree.flush()\n",
    "\n",
    "    n_unique_tree.write('\\n')\n",
    "    \n",
    "    kl_div_methods.close()\n",
    "    n_unique_tree.close()            "
   ]
  },
  {
   "cell_type": "code",
   "execution_count": 44,
   "metadata": {},
   "outputs": [
    {
     "name": "stdout",
     "output_type": "stream",
     "text": [
      "438 minutes elapsed\n"
     ]
    }
   ],
   "source": [
    "elapsed = time()-start_time\n",
    "print(\"{:d} minutes elapsed\".format(int(elapsed)//60))"
   ]
  },
  {
   "cell_type": "code",
   "execution_count": 46,
   "metadata": {},
   "outputs": [],
   "source": [
    "kl_div_mat_merg = np.concatenate((kl_div_mat, kl_div_mat_freq.reshape(n_rep, 7, -1)), axis=2)"
   ]
  },
  {
   "cell_type": "code",
   "execution_count": 47,
   "metadata": {},
   "outputs": [],
   "source": [
    "model = SBN(taxa, emp_tree_freq)"
   ]
  },
  {
   "cell_type": "code",
   "execution_count": 48,
   "metadata": {},
   "outputs": [
    {
     "name": "stdout",
     "output_type": "stream",
     "text": [
      "Iter 1: current per tree log-likelihood -2.954282\n",
      "Iter 2: current per tree log-likelihood -2.950041\n",
      "Iter 3: current per tree log-likelihood -2.949119\n",
      "Iter 4: current per tree log-likelihood -2.948953\n",
      "Iter 5: current per tree log-likelihood -2.948856\n",
      "Iter 6: current per tree log-likelihood -2.948778\n",
      "Iter 7: current per tree log-likelihood -2.948709\n",
      "Iter 8: current per tree log-likelihood -2.948643\n",
      "Iter 9: current per tree log-likelihood -2.948577\n",
      "Iter 10: current per tree log-likelihood -2.948517\n",
      "Iter 11: current per tree log-likelihood -2.948470\n",
      "Iter 12: current per tree log-likelihood -2.948433\n",
      "Iter 13: current per tree log-likelihood -2.948401\n",
      "Iter 14: current per tree log-likelihood -2.948369\n",
      "Iter 15: current per tree log-likelihood -2.948329\n",
      "Iter 16: current per tree log-likelihood -2.948275\n",
      "Iter 17: current per tree log-likelihood -2.948194\n",
      "Iter 18: current per tree log-likelihood -2.948071\n",
      "Iter 19: current per tree log-likelihood -2.947880\n",
      "Iter 20: current per tree log-likelihood -2.947581\n",
      "Iter 21: current per tree log-likelihood -2.947111\n",
      "Iter 22: current per tree log-likelihood -2.946374\n",
      "Iter 23: current per tree log-likelihood -2.945227\n",
      "Iter 24: current per tree log-likelihood -2.943474\n",
      "Iter 25: current per tree log-likelihood -2.940887\n",
      "Iter 26: current per tree log-likelihood -2.937283\n",
      "Iter 27: current per tree log-likelihood -2.932696\n",
      "Iter 28: current per tree log-likelihood -2.927541\n",
      "Iter 29: current per tree log-likelihood -2.922553\n",
      "Iter 30: current per tree log-likelihood -2.918396\n",
      "Iter 31: current per tree log-likelihood -2.915286\n",
      "Iter 32: current per tree log-likelihood -2.913006\n",
      "Iter 33: current per tree log-likelihood -2.911202\n",
      "Iter 34: current per tree log-likelihood -2.909606\n",
      "Iter 35: current per tree log-likelihood -2.908088\n",
      "Iter 36: current per tree log-likelihood -2.906618\n",
      "Iter 37: current per tree log-likelihood -2.905217\n",
      "Iter 38: current per tree log-likelihood -2.903923\n",
      "Iter 39: current per tree log-likelihood -2.902773\n",
      "Iter 40: current per tree log-likelihood -2.901789\n",
      "Iter 41: current per tree log-likelihood -2.900977\n",
      "Iter 42: current per tree log-likelihood -2.900327\n",
      "Iter 43: current per tree log-likelihood -2.899823\n",
      "Iter 44: current per tree log-likelihood -2.899439\n",
      "Iter 45: current per tree log-likelihood -2.899152\n",
      "Iter 46: current per tree log-likelihood -2.898939\n",
      "Iter 47: current per tree log-likelihood -2.898782\n",
      "Iter 48: current per tree log-likelihood -2.898663\n",
      "Iter 49: current per tree log-likelihood -2.898573\n",
      "Iter 50: current per tree log-likelihood -2.898502\n",
      "Iter 51: current per tree log-likelihood -2.898445\n",
      "Iter 52: current per tree log-likelihood -2.898398\n",
      "Iter 53: current per tree log-likelihood -2.898359\n",
      "Iter 54: current per tree log-likelihood -2.898324\n",
      "Iter 55: current per tree log-likelihood -2.898294\n",
      "Iter 56: current per tree log-likelihood -2.898268\n",
      "Iter 57: current per tree log-likelihood -2.898245\n",
      "Iter 58: current per tree log-likelihood -2.898224\n",
      "Iter 59: current per tree log-likelihood -2.898205\n",
      "Iter 60: current per tree log-likelihood -2.898189\n",
      "Iter 61: current per tree log-likelihood -2.898174\n",
      "Iter 62: current per tree log-likelihood -2.898160\n",
      "Iter 63: current per tree log-likelihood -2.898148\n",
      "Iter 64: current per tree log-likelihood -2.898137\n",
      "Iter 65: current per tree log-likelihood -2.898128\n"
     ]
    }
   ],
   "source": [
    "logp = model.bn_em_prob(tree_dict_total, tree_names_total, tree_wts_total, maxiter=100, abstol=1e-05, monitor=True, MAP=False)"
   ]
  },
  {
   "cell_type": "code",
   "execution_count": 49,
   "metadata": {},
   "outputs": [],
   "source": [
    "bn_em_est_prob = [model.bn_estimate(tree_dict_total[tree_name]) for tree_name in tree_names_total]"
   ]
  },
  {
   "cell_type": "code",
   "execution_count": 50,
   "metadata": {},
   "outputs": [
    {
     "data": {
      "text/plain": [
       "(0.9994882515181007, 0.27499234412280765)"
      ]
     },
     "execution_count": 50,
     "metadata": {},
     "output_type": "execute_result"
    }
   ],
   "source": [
    "sum(bn_em_est_prob), max(bn_em_est_prob)"
   ]
  },
  {
   "cell_type": "code",
   "execution_count": 51,
   "metadata": {},
   "outputs": [],
   "source": [
    "kl_div_mean = np.mean(kl_div_mat_merg, axis=0)\n",
    "kl_div_std = np.std(kl_div_mat_merg, axis=0)"
   ]
  },
  {
   "cell_type": "code",
   "execution_count": 52,
   "metadata": {},
   "outputs": [],
   "source": [
    "K_v = [10000, 20000, 40000, 80000, 160000, 320000, 640000]\n",
    "labels={0:'ccd',1:'sbn-sa',2:'sbn-em',3:'sbn-em-'+r'$\\alpha$',4:'srf'}\n",
    "fmts={0:'-o',1:'-s',2:'-d',3:'-^',4:'--P'}\n",
    "marksz={0:5,1:5,2:6,3:6,4:6}"
   ]
  },
  {
   "cell_type": "code",
   "execution_count": 60,
   "metadata": {},
   "outputs": [
    {
     "data": {
      "image/png": "[encoded data removed]",
      "text/plain": [
       "<Figure size 1080x360 with 3 Axes>"
      ]
     },
     "metadata": {
      "needs_background": "light"
     },
     "output_type": "display_data"
    }
   ],
   "source": [
    "fig, (ax1,ax2,ax3) = plt.subplots(1,3,figsize=(15,5))\n",
    "# badly saved notebook state, ccd_est_prob does not exist\n",
    "#ax1.plot(tree_wts_total, ccd_est_prob, 'o', markersize=4, alpha=0.5)\n",
    "ax1.set_xlim([1e-8,1])\n",
    "ax1.set_ylim(ax1.get_xlim())\n",
    "ax1.loglog([1e-8,1],[1e-8,1],linewidth=2)\n",
    "ax1.set_title('CCD (broken)', y=1.02, fontsize=20)\n",
    "ax1.set_xlabel('log(ground truth)',fontsize=15)\n",
    "ax1.set_ylabel('log(estimated probability)',fontsize=15)\n",
    "ax1.tick_params(labelsize=12)\n",
    "\n",
    "ax2.plot(tree_wts_total, bn_em_est_prob, 'o', markersize=4, alpha=0.5)\n",
    "ax2.set_xlim([1e-8,1])\n",
    "ax2.set_ylim(ax2.get_xlim())\n",
    "ax2.loglog([1e-8,1],[1e-8,1],linewidth=2)\n",
    "ax2.set_title('SBN-EM', y=1.02, fontsize=20)\n",
    "ax2.set_xlabel('log(ground truth)',fontsize=15)\n",
    "ax2.set_ylabel('log(estimated probability)',fontsize=15)\n",
    "ax2.tick_params(labelsize=12)\n",
    "\n",
    "\n",
    "ax3.set_xscale('log')\n",
    "ax3.set_yscale('log')\n",
    "for i in [0,1,2,3,4]:\n",
    "    ax3.errorbar(K_v, kl_div_mean[:,i], yerr=kl_div_std[:,i], c=colors[i], label=labels[i], fmt=fmts[i],markersize=marksz[i], alpha=0.75, linewidth=1)\n",
    "    \n",
    "leg = ax3.legend(loc='best',fontsize=14)\n",
    "leg.get_frame().set_alpha(0.5)\n",
    "ax3.grid(which='both', linestyle='--', alpha=0.5)\n",
    "ax3.tick_params(labelsize=12)\n",
    "ax3.set_xlabel(r'$K$', fontsize=14)\n",
    "ax3.set_ylabel('KL divergence', fontsize=14)\n",
    "ax3.set_title('DS1', y=1.02, fontsize=20)\n",
    "\n",
    "plt.tight_layout()\n",
    "\n",
    "plt.show()"
   ]
  },
  {
   "cell_type": "markdown",
   "metadata": {},
   "source": [
    "# Questions\n",
    "\n",
    "* Can we confirm that counting frequencies of phylogenies is equivalent to SRF? **Yes, because the line labeled srf in the rightmost figure corresponds to the `kl_div_mat_freq` matrix produced when fitting the SBN by counting in cell 20 above.**\n"
   ]
  },
  {
   "cell_type": "code",
   "execution_count": 59,
   "metadata": {},
   "outputs": [
    {
     "data": {
      "text/plain": [
       "'srf'"
      ]
     },
     "execution_count": 59,
     "metadata": {},
     "output_type": "execute_result"
    }
   ],
   "source": [
    "labels[4]"
   ]
  }
 ],
 "metadata": {
  "kernelspec": {
   "display_name": "Python 2",
   "language": "python",
   "name": "python2"
  },
  "language_info": {
   "codemirror_mode": {
    "name": "ipython",
    "version": 2
   },
   "file_extension": ".py",
   "mimetype": "text/x-python",
   "name": "python",
   "nbconvert_exporter": "python",
   "pygments_lexer": "ipython2",
   "version": "2.7.17"
  }
 },
 "nbformat": 4,
 "nbformat_minor": 2
}
